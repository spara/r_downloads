{
  "cells": [
    {
      "cell_type": "markdown",
      "metadata": {
        "pycharm": {}
      },
      "source": "## R package downloads\n\nCRAN download stats from [http://cran-logs.rstudio.com/](http://cran-logs.rstudio.com/) and uploaded to [BigQuery](https://bigquery.cloud.google.com/dataset/cran-downloads-235616)  \n"
    },
    {
      "cell_type": "code",
      "execution_count": 1,
      "metadata": {
        "pycharm": {
          "is_executing": false
        }
      },
      "outputs": [],
      "source": "import json\nimport requests\nfrom operator import itemgetter\nfrom operator import itemgetter\nimport helpers\n\n# get CRAN data from Anaconda\ncran_json \u003d open(\u0027results-20190327-143800.json\u0027)\ncran_data \u003d json.load(cran_json)\ncran_sorted \u003d sorted(cran_data, key \u003d itemgetter(\u0027download_count\u0027), reverse\u003dFalse)\ncran_list \u003d []\nfor pkg in cran_sorted:\n    cran_list.append(pkg.get(\"package\"))\n\n# get anaconda r pkgs\nr \u003d requests.get(\"https://repo.continuum.io/pkgs/r/linux-64/repodata.json\")\ndata \u003d r.json()\nad_r_list \u003d []\npkgs \u003d data.get(\"packages\")\nfor k,v in pkgs.items():\n    ad_r_list.append((v.get(\"name\").replace(\"r-\",\"\")))\n\nad_r_list \u003d helpers.unique(ad_r_list)\n\n# R package names may differ slightly from Anaconda package names,\n# find similar package names and map them to each other\n#\nsimilarity_list \u003d []\nfor r_pkg in ad_r_list:\n    for cran_pkg in cran_list:\n        score \u003d helpers.similarity(r_pkg,cran_pkg)\n        if score \u003e 0.8:\n            similarity_list.append({\"anaconda\" : r_pkg, \"cran\" : cran_pkg, \"score\" : score})\n            \n# scores \u003d [list(x) for x in set(tuple(x) for x in similarity_list)]\nscores \u003d list({v[\"anaconda\"]:v for v in similarity_list}.values())\nscores \u003d sorted(scores, key \u003d lambda i: i[\"anaconda\"])\n\nanaconda_pkgs \u003d []\nfor pkg in scores:\n    anaconda_pkgs.append(pkg.get(\"cran\"))\n\nanaconda_pkgs_set \u003d set(anaconda_pkgs)\n"
    },
    {
      "cell_type": "markdown",
      "metadata": {
        "pycharm": {
          "name": "#%% md\n"
        }
      },
      "source": "CRAN Downloads\n"
    },
    {
      "cell_type": "code",
      "execution_count": 4,
      "metadata": {
        "pycharm": {
          "is_executing": false
        }
      },
      "outputs": [],
      "source": "from google.cloud import bigquery\nfrom google.oauth2 import service_account\n\ncredentials \u003d service_account.Credentials.from_service_account_file(\u0027/Users/sparafina/Documents/cran-downloads-cf6f22173f3d.json\u0027)\nproject_id \u003d \u0027cran-downloads-235616\u0027\n\n\nclient \u003d bigquery.Client(credentials\u003dcredentials,project\u003dproject_id)\n\nQUERY \u003d (\u0027SELECT COUNT(*) AS download_count, package \u0027\n         \u0027FROM cran_downloads20182303.downloads \u0027 \n         \u0027WHERE date between \"2018-03-1\" AND \"2019-03-01\" \u0027\n         \u0027GROUP BY package \u0027\n         \u0027ORDER BY download_count DESC \u0027         \n         \u0027LIMIT 1000\u0027)\nquery_job \u003d client.query(QUERY)\nrows \u003d query_job.result()\n\n# convert Google BigQuery object to lists\ncran_pkgs \u003d []\ncran_pkgs_list \u003d []\nfor row in rows:\n    cran_pkgs.append({\"download_count\" :row.download_count, \"package\" : row.package})\n    cran_pkgs_list.append(row.package)\n    \n\ncran_pkgs_set \u003d set(cran_pkgs_list)\n"
    },
    {
      "cell_type": "markdown",
      "source": "Compare Anaconda R packages with CRAN R packages",
      "metadata": {
        "pycharm": {
          "metadata": false
        }
      }
    },
    {
      "cell_type": "code",
      "execution_count": 5,
      "outputs": [],
      "source": "# Anaconda R packages in top 1000 CRAN R packages\nshared_pkgs \u003d anaconda_pkgs_set.intersection(cran_pkgs_set)\n# CRAN packages not in Anaconda R repository\nunavailable_pkgs \u003d cran_pkgs_set.difference(anaconda_pkgs_set)\nunavailable_pkgs_list \u003d helpers.compare_packages(unavailable_pkgs, cran_pkgs) \nunavailable_pkgs_list \u003d sorted(unavailable_pkgs_list, key \u003d itemgetter(\"download_count\"), reverse\u003dTrue)\n\n\nwith open(\u0027unavailable_anaconda_r_pkgs.json\u0027, \u0027w\u0027) as out:\n    json.dump(unavailable_pkgs_list, out)\n    ",
      "metadata": {
        "pycharm": {
          "metadata": false,
          "name": "#%%\n",
          "is_executing": false
        }
      }
    },
    {
      "cell_type": "markdown",
      "source": "Find Conda-Forge R packages\n",
      "metadata": {
        "pycharm": {
          "metadata": false
        }
      }
    },
    {
      "cell_type": "code",
      "execution_count": 7,
      "outputs": [],
      "source": "cf_r_pkg \u003d []\ncf_r_data \u003d open(\u0027conda-forge-R-pkgs.txt\u0027)\nfor pkg in cf_r_data:\n    cf_r_pkg.append(pkg.lstrip(\u0027r-\u0027).rstrip())\ncf_r_pkgs_set \u003d set(cf_r_pkg)\n\ncf_r_shared_pkgs \u003d cf_r_pkgs_set.intersection(cran_pkgs_set)\ncf_r_unavailable \u003d cran_pkgs_set.intersection(cf_r_pkgs_set)\ncf_unavailable_pkgs_list \u003d helpers.compare_packages(cf_r_unavailable, cran_pkgs)\ncf_unavailable_pkgs \u003d sorted(cf_unavailable_pkgs_list, key \u003d itemgetter(\"download_count\"), reverse\u003dTrue)\n\nwith open(\u0027unavailable_conda_forge_r_pkgs.json\u0027, \u0027w\u0027) as out:\n    json.dump(cf_unavailable_pkgs, out)\n\n",
      "metadata": {
        "pycharm": {
          "metadata": false,
          "name": "#%%\n",
          "is_executing": false
        }
      }
    }
  ],
  "metadata": {
    "kernelspec": {
      "display_name": "Python 3",
      "language": "python",
      "name": "python3"
    },
    "language_info": {
      "codemirror_mode": {
        "name": "ipython",
        "version": 3
      },
      "file_extension": ".py",
      "mimetype": "text/x-python",
      "name": "python",
      "nbconvert_exporter": "python",
      "pygments_lexer": "ipython3",
      "version": "3.7.1"
    }
  },
  "nbformat": 4,
  "nbformat_minor": 2
}